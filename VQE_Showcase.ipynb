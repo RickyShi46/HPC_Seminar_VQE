{
 "cells": [
  {
   "attachments": {},
   "cell_type": "markdown",
   "id": "3534167b",
   "metadata": {},
   "source": [
    "# Variational Quantum Eigensolvers"
   ]
  },
  {
   "attachments": {},
   "cell_type": "markdown",
   "id": "38479c76",
   "metadata": {},
   "source": [
    "Let's first start by importing implemented VQE class, and helpers. We will also need qiskit for generic pauli operators."
   ]
  },
  {
   "cell_type": "code",
   "execution_count": 1,
   "id": "98e2303b",
   "metadata": {},
   "outputs": [],
   "source": [
    "from VQEs.VQE import VQE\n",
    "from VQEs.Helpers import *\n",
    "from qiskit import *\n",
    "import numpy as np\n",
    "\n",
    "import warnings\n",
    "warnings.filterwarnings('ignore', category=DeprecationWarning)"
   ]
  },
  {
   "attachments": {},
   "cell_type": "markdown",
   "id": "be18bbdc",
   "metadata": {},
   "source": [
    "Let's start with a very simple matrix to show to usage of VQE. \n",
    "\n",
    "Our aim is to find the lowest eigenvalue of the following matrix\n",
    "\n",
    "$$\n",
    "U = \n",
    "\\begin{bmatrix}\n",
    "1 & 0 & 0 & 0 \\\\\n",
    "0 & 0 & -1 & 0 \\\\\n",
    "0 & -1 & 0 & 0 \\\\\n",
    "0 & 0 & 0 & 1\n",
    "\\end{bmatrix}\n",
    "$$\n",
    "\n",
    "using VQE circuit. In order to do so, one must find a decomposition of the  $U$ in terms of Pauli operators $\\{\\mathbb{1}, X, Y, Z\\}$:\n",
    "\n",
    "$$\n",
    "\\mathbb{1} =\n",
    "\\begin{bmatrix}\n",
    "1 & 0  \\\\\n",
    "0 & 1\n",
    "\\end{bmatrix}\\quad\n",
    "X =\n",
    "\\begin{bmatrix}\n",
    "0 & 1 \\\\\n",
    "1& 0\n",
    "\\end{bmatrix}\\quad\n",
    "Y =\n",
    "\\begin{bmatrix}\n",
    "0 & -i \\\\\n",
    "i & 0\n",
    "\\end{bmatrix}\\quad\n",
    "Z =\n",
    "\\begin{bmatrix}\n",
    "1 & 0 \\\\\n",
    "0 & -1\n",
    "\\end{bmatrix}\n",
    "$$\n",
    "\n",
    "in order to be implemented on a quantum computer. In particular, since we are dealing with a $4\\times4$ matrix, two qubits are needed, thus the desired decomposition will be made of *tensor products* of two Pauli operators (e.g. $X_1 \\otimes Y_2$, where the subscript denotes the system on which the operator acts).\n",
    "\n",
    "For this I impelemted a function named ```decomposeHamiltonian(H)```"
   ]
  },
  {
   "cell_type": "code",
   "execution_count": 2,
   "id": "8a612c35",
   "metadata": {},
   "outputs": [],
   "source": [
    "U = np.array([[1, 0, 0, 0], \n",
    "              [0, 0, -1, 0], \n",
    "              [0, -1, 0, 0],\n",
    "              [0, 0, 0, 1]])"
   ]
  },
  {
   "attachments": {},
   "cell_type": "markdown",
   "id": "c661d53f",
   "metadata": {},
   "source": [
    "Using ```decomposeHamiltonian(H)``` we can see the decomposed U into paulis."
   ]
  },
  {
   "cell_type": "code",
   "execution_count": 3,
   "id": "4261a6e2",
   "metadata": {},
   "outputs": [
    {
     "name": "stdout",
     "output_type": "stream",
     "text": [
      "0.5 * II\n",
      "- 0.5 * XX\n",
      "- 0.5 * YY\n",
      "+ 0.5 * ZZ\n"
     ]
    }
   ],
   "source": [
    "decomposedU = decomposeHamiltonian(U)\n",
    "print(decomposedU)"
   ]
  },
  {
   "attachments": {},
   "cell_type": "markdown",
   "id": "fbbcbb27",
   "metadata": {},
   "source": [
    "We can also see this term is really equal to original U."
   ]
  },
  {
   "cell_type": "code",
   "execution_count": 4,
   "id": "b21aa30a",
   "metadata": {},
   "outputs": [
    {
     "data": {
      "text/plain": [
       "array([[ 1.+0.j,  0.+0.j,  0.+0.j,  0.+0.j],\n",
       "       [ 0.+0.j,  0.+0.j, -1.+0.j,  0.+0.j],\n",
       "       [ 0.+0.j, -1.+0.j,  0.+0.j,  0.+0.j],\n",
       "       [ 0.+0.j,  0.+0.j,  0.+0.j,  1.+0.j]])"
      ]
     },
     "execution_count": 4,
     "metadata": {},
     "output_type": "execute_result"
    }
   ],
   "source": [
    "decomposedU.to_matrix()"
   ]
  },
  {
   "attachments": {},
   "cell_type": "markdown",
   "id": "74315b55",
   "metadata": {},
   "source": [
    "We can initialize our VQE object just with our only required parameter matrix(we can both use ```PauliSumOp``` of Qiskit or a numpy array). We will use this object to optimize parameters and also show the final ansatz."
   ]
  },
  {
   "cell_type": "code",
   "execution_count": 5,
   "id": "ccdb8014",
   "metadata": {},
   "outputs": [],
   "source": [
    "vqe = VQE(decomposedU)"
   ]
  },
  {
   "attachments": {},
   "cell_type": "markdown",
   "id": "4f24cd98",
   "metadata": {},
   "source": [
    "Then, if we just run the VQE algorithm with defined ```run(plotIterations=True)``` function we can get our optimization result and a plot for iteration expectations values.\n",
    "Also lets compare the results with exact ground state energy of U."
   ]
  },
  {
   "cell_type": "code",
   "execution_count": 6,
   "id": "f290c93d",
   "metadata": {},
   "outputs": [
    {
     "name": "stdout",
     "output_type": "stream",
     "text": [
      "The exact ground state energy : -1.0000000000000002\n",
      "The estimated ground state energy from VQE algorithm : -0.9951171875\n",
      "Iteration count for convergence : 117\n",
      "Measurement shot count per iteration: 8192\n",
      "Optimizer COBYLA tolerance: 0.001\n"
     ]
    },
    {
     "data": {
      "image/png": "[encoded data removed]",
      "text/plain": [
       "<Figure size 432x288 with 1 Axes>"
      ]
     },
     "metadata": {
      "needs_background": "light"
     },
     "output_type": "display_data"
    }
   ],
   "source": [
    "from qiskit.algorithms import NumPyEigensolver\n",
    "\n",
    "classicalEigenSolver = NumPyEigensolver(k=1) # gets the lowest eigenvalue\n",
    "result = classicalEigenSolver.compute_eigenvalues(decomposedU)\n",
    "referenceEigenValueU = np.real(result.eigenvalues.flat[0])\n",
    "\n",
    "print(\"The exact ground state energy : {}\".format(referenceEigenValueU))\n",
    "result = vqe.run()\n",
    "print(\"The estimated ground state energy from VQE algorithm : {}\".format(result.fun))\n",
    "print(\"Iteration count for convergence : {}\".format(result.nfev))\n",
    "print(\"Measurement shot count per iteration: {}\".format(vqe.shots))\n",
    "print(\"Optimizer {} tolerance: {}\".format(vqe.optimizer, vqe.tol))"
   ]
  },
  {
   "attachments": {},
   "cell_type": "markdown",
   "id": "f16c5edc",
   "metadata": {},
   "source": [
    "We can also see the final ansatz with its optimized parameters with ```draw()``` function."
   ]
  },
  {
   "cell_type": "code",
   "execution_count": 7,
   "id": "a93d9037",
   "metadata": {},
   "outputs": [
    {
     "data": {
      "image/png": "[encoded data removed]",
      "text/plain": [
       "<Figure size 620.992x144.48 with 1 Axes>"
      ]
     },
     "execution_count": 7,
     "metadata": {},
     "output_type": "execute_result"
    }
   ],
   "source": [
    "vqe.draw(output='mpl')"
   ]
  },
  {
   "attachments": {},
   "cell_type": "markdown",
   "id": "d43c60de",
   "metadata": {},
   "source": [
    "Let's now try VQE with a real molecule Hamiltonian.\n",
    "\n",
    "### Molecule Setup\n",
    "\n",
    "The hydrogen molecule (H$_2$) at the equilibrium bond length (0.735 Angstrom) will be used. In order to set up the molecular Hamiltonian one has to get the one- and two-electron integrals from a computational chemistry driver (PySCF in this case). The information from the driver is saved in the ``molecule`` object. Then the Fermionic Hamiltonian is mapped to the qubit Hamiltonian using the ``parity`` mapping type as it further reduces the problem size."
   ]
  },
  {
   "cell_type": "code",
   "execution_count": 8,
   "id": "811239c5",
   "metadata": {},
   "outputs": [],
   "source": [
    "from qiskit.chemistry import FermionicOperator\n",
    "from qiskit.chemistry.drivers import PySCFDriver, UnitsType\n",
    "from qiskit.aqua.operators import Z2Symmetries\n",
    "from qiskit.aqua.operators.legacy.op_converter import to_weighted_pauli_operator\n",
    "\n",
    "driver = PySCFDriver(atom='H .0 .0 .0; H .0 .0 0.735',\n",
    "                     unit=UnitsType.ANGSTROM,\n",
    "                     basis='sto3g')\n",
    "molecule = driver.run()\n",
    "num_particles = molecule.num_alpha + molecule.num_beta\n",
    "num_spin_orbitals = molecule.num_orbitals * 2\n",
    "\n",
    "ferOp = FermionicOperator(h1=molecule.one_body_integrals, h2=molecule.two_body_integrals)\n",
    "\n",
    "# Build the qubit operator, which is the input to the VQE algorithm\n",
    "map_type = 'PARITY'\n",
    "qubitOp = ferOp.mapping(map_type)\n",
    "qubitOp = Z2Symmetries.two_qubit_reduction(to_weighted_pauli_operator(qubitOp), num_particles)\n",
    "num_qubits = qubitOp.num_qubits"
   ]
  },
  {
   "attachments": {},
   "cell_type": "markdown",
   "id": "910fd881",
   "metadata": {},
   "source": [
    "Let's see how our Hamiltonian looks as matrix and pauli sum operator. "
   ]
  },
  {
   "cell_type": "code",
   "execution_count": 9,
   "id": "4aaa7c51",
   "metadata": {},
   "outputs": [
    {
     "name": "stdout",
     "output_type": "stream",
     "text": [
      "Hamiltonian Matrix: \n",
      "[[-1.06365335+0.j  0.        +0.j  0.        +0.j  0.1809312 +0.j]\n",
      " [ 0.        +0.j -1.83696799+0.j  0.1809312 +0.j  0.        +0.j]\n",
      " [ 0.        +0.j  0.1809312 +0.j -0.24521829+0.j  0.        +0.j]\n",
      " [ 0.1809312 +0.j  0.        +0.j  0.        +0.j -1.06365335+0.j]]\n",
      "\n",
      "Decomposed Hamiltonian: \n",
      "-1.05237324577286 * II\n",
      "+ 0.39793742484317907 * IZ\n",
      "+ 0.1809311997842313 * XX\n",
      "- 0.39793742484317907 * ZI\n",
      "- 0.01128010425623538 * ZZ\n"
     ]
    }
   ],
   "source": [
    "H = qubitOp.to_opflow().to_matrix()\n",
    "decomposedH = decomposeHamiltonian(H)\n",
    "print(\"Hamiltonian Matrix: \\n{}\\n\".format(H))\n",
    "print(\"Decomposed Hamiltonian: \\n{}\".format(decomposedH))"
   ]
  },
  {
   "attachments": {},
   "cell_type": "markdown",
   "id": "fbebdea4",
   "metadata": {},
   "source": [
    "Now we can again initialize our VQE instance and compute analytical ground state energy."
   ]
  },
  {
   "cell_type": "code",
   "execution_count": 10,
   "id": "225b4692",
   "metadata": {},
   "outputs": [],
   "source": [
    "vqeH2 = VQE(H)\n",
    "\n",
    "result = classicalEigenSolver.compute_eigenvalues(decomposedH)\n",
    "referenceEigenValueH = np.real(result.eigenvalues.flat[0])"
   ]
  },
  {
   "cell_type": "code",
   "execution_count": 11,
   "id": "cb0d6b32",
   "metadata": {},
   "outputs": [
    {
     "name": "stdout",
     "output_type": "stream",
     "text": [
      "The exact ground state energy : -1.8572750302023822\n",
      "The estimated ground state energy from VQE algorithm : -1.851117484631565\n",
      "Iteration count for convergence : 118\n",
      "Measurement shot count per iteration: 8192\n",
      "Optimizer COBYLA tolerance: 0.001\n"
     ]
    },
    {
     "data": {
      "image/png": "[encoded data removed]",
      "text/plain": [
       "<Figure size 432x288 with 1 Axes>"
      ]
     },
     "metadata": {
      "needs_background": "light"
     },
     "output_type": "display_data"
    }
   ],
   "source": [
    "print(\"The exact ground state energy : {}\".format(referenceEigenValueH))\n",
    "result = vqeH2.run()\n",
    "print(\"The estimated ground state energy from VQE algorithm : {}\".format(result.fun))\n",
    "print(\"Iteration count for convergence : {}\".format(result.nfev))\n",
    "print(\"Measurement shot count per iteration: {}\".format(vqeH2.shots))\n",
    "print(\"Optimizer {} tolerance: {}\".format(vqeH2.optimizer, vqeH2.tol))"
   ]
  },
  {
   "cell_type": "code",
   "execution_count": 12,
   "id": "0e4f4d45",
   "metadata": {},
   "outputs": [
    {
     "name": "stdout",
     "output_type": "stream",
     "text": [
      "Ansatz with parameters : \n",
      "[ 2.04413384  0.2882832   2.90870521  1.35194768  0.38237203 -0.24108451\n",
      "  1.65190948  1.78248712  1.26511828 -0.10662816  0.21347281  1.01279414]\n"
     ]
    },
    {
     "data": {
      "image/png": "[encoded data removed]",
      "text/plain": [
       "<Figure size 633.973x144.48 with 1 Axes>"
      ]
     },
     "execution_count": 12,
     "metadata": {},
     "output_type": "execute_result"
    }
   ],
   "source": [
    "print(\"Ansatz with parameters : \\n{}\".format(result.x))\n",
    "vqeH2.draw(output='mpl')"
   ]
  },
  {
   "attachments": {},
   "cell_type": "markdown",
   "id": "c0f3349f",
   "metadata": {},
   "source": [
    "We demonstrate the calculation of the ground state energy for LiH at various interatomic distances. A driver for the molecule must be created at each such distance. Note that in this experiment, to reduce the number of qubits used, we freeze the core and remove two unoccupied orbitals. First, we define a function that takes an interatomic distance and returns the appropriate qubit operator, $H$, as well as some other information about the operator.\n",
    "\n",
    "Reference: https://qiskit.org/textbook/ch-applications/vqe-molecules.html"
   ]
  },
  {
   "cell_type": "code",
   "execution_count": 1,
   "id": "cb47486f",
   "metadata": {},
   "outputs": [
    {
     "name": "stderr",
     "output_type": "stream",
     "text": [
      "/home/ricky/anaconda3/envs/seminar/lib/python3.8/site-packages/qiskit/aqua/__init__.py:86: DeprecationWarning: The package qiskit.aqua is deprecated. It was moved/refactored to qiskit-terra For more information see <https://github.com/Qiskit/qiskit-aqua/blob/main/README.md#migration-guide>\n",
      "  warn_package('aqua', 'qiskit-terra')\n",
      "/home/ricky/anaconda3/envs/seminar/lib/python3.8/site-packages/qiskit/chemistry/__init__.py:170: DeprecationWarning: The package qiskit.chemistry is deprecated. It was moved/refactored to qiskit_nature (pip install qiskit-nature). For more information see <https://github.com/Qiskit/qiskit-aqua/blob/main/README.md#migration-guide>\n",
      "  warn_package('chemistry', 'qiskit_nature', 'qiskit-nature')\n"
     ]
    }
   ],
   "source": [
    "import numpy as np \n",
    "import pylab \n",
    "import copy\n",
    "from qiskit import BasicAer \n",
    "from qiskit.aqua import aqua_globals, QuantumInstance \n",
    "from qiskit.aqua.algorithms import NumPyMinimumEigensolver, VQE \n",
    "from qiskit.aqua.components.optimizers import SLSQP \n",
    "from qiskit.chemistry.components.initial_states import HartreeFock \n",
    "from qiskit.chemistry.components.variational_forms import UCCSD \n",
    "from qiskit.chemistry.drivers import PySCFDriver \n",
    "from qiskit.chemistry.core import Hamiltonian, QubitMappingType\n",
    "molecule = 'H .0 .0 -{0}; Li .0 .0 {0}'\n",
    "distances = np.arange (0.5,4.25,0.25)\n",
    "vqe_energies = []\n",
    "hf_energies = []\n",
    "exact_energies = []"
   ]
  },
  {
   "cell_type": "code",
   "execution_count": 2,
   "id": "ad4c359a",
   "metadata": {},
   "outputs": [
    {
     "name": "stdout",
     "output_type": "stream",
     "text": [
      "step 0\n"
     ]
    },
    {
     "name": "stderr",
     "output_type": "stream",
     "text": [
      "/tmp/ipykernel_5368/446905631.py:6: DeprecationWarning: The Hamiltonian class is deprecated as of Qiskit Aqua 0.8.0 and will be removed no earlier than 3 months after the release date. Instead, the FermionicTransformation can be used.\n",
      "  operator = Hamiltonian(qubit_mapping=QubitMappingType.PARITY,\n",
      "/home/ricky/anaconda3/envs/seminar/lib/python3.8/site-packages/qiskit/chemistry/core/hamiltonian.py:88: DeprecationWarning: The ChemistryOperator is deprecated as of Qiskit Aqua 0.8.0 and will be removed no earlier than 3 months after the release date. Instead, the FermionicTransformation can be used to transform QMolecules and construct ground state result objects.\n",
      "  super().__init__()\n",
      "/home/ricky/anaconda3/envs/seminar/lib/python3.8/site-packages/qiskit/chemistry/fermionic_operator.py:386: DeprecationWarning: The package qiskit.aqua.operators is deprecated. It was moved/refactored to qiskit.opflow (pip install qiskit-terra). For more information see <https://github.com/Qiskit/qiskit-aqua/blob/main/README.md#migration-guide>\n",
      "  pauli_list = WeightedPauliOperator(paulis=[])\n",
      "/home/ricky/anaconda3/envs/seminar/lib/python3.8/site-packages/qiskit/chemistry/fermionic_operator.py:394: DeprecationWarning: The variable qiskit.aqua.aqua_globals is deprecated. It was moved/refactored to qiskit.utils.algorithm_globals (pip install qiskit-terra). For more information see <https://github.com/Qiskit/qiskit-aqua/blob/main/README.md#migration-guide>\n",
      "  task_args=(threshold,), num_processes=aqua_globals.num_processes)\n",
      "/home/ricky/anaconda3/envs/seminar/lib/python3.8/site-packages/qiskit/aqua/algorithms/minimum_eigen_solvers/minimum_eigen_solver.py:36: DeprecationWarning: The package qiskit.aqua.algorithms.minimum_eigen_solvers is deprecated. It was moved/refactored to qiskit.algorithms.minimum_eigen_solvers (pip install qiskit-terra). For more information see <https://github.com/Qiskit/qiskit-aqua/blob/main/README.md#migration-guide>\n",
      "  warn_package('aqua.algorithms.minimum_eigen_solvers',\n",
      "/home/ricky/anaconda3/envs/seminar/lib/python3.8/site-packages/qiskit/aqua/algorithms/eigen_solvers/eigen_solver.py:36: DeprecationWarning: The package qiskit.aqua.algorithms.eigen_solvers is deprecated. It was moved/refactored to qiskit.algorithms.eigen_solvers (pip install qiskit-terra). For more information see <https://github.com/Qiskit/qiskit-aqua/blob/main/README.md#migration-guide>\n",
      "  warn_package('aqua.algorithms.eigen_solvers',\n",
      "/home/ricky/anaconda3/envs/seminar/lib/python3.8/site-packages/qiskit/chemistry/core/chemistry_operator.py:170: DeprecationWarning: The qiskit.chemistry.chemistry_operator.MolecularChemistryResult object is deprecated as of 0.8.0 and will be removed no sooner than 3 months after the release. You should use qiskit.chemistry.algorithms.ground_state_solvers.FermionicGroundStateResult instead.\n",
      "  super().__init__(a_dict)\n",
      "/home/ricky/anaconda3/envs/seminar/lib/python3.8/site-packages/qiskit/chemistry/core/hamiltonian.py:380: DeprecationWarning: The qiskit.chemistry.chemistry_operator.MolecularGroundStateResult object is deprecated as of 0.8.0 and will be removed no sooner than 3 months after the release. You should use qiskit.chemistry.algorithms.ground_state_solvers.FermionicGroundStateResult instead.\n",
      "  mgsr = MolecularGroundStateResult()\n",
      "/home/ricky/anaconda3/envs/seminar/lib/python3.8/site-packages/qiskit/aqua/components/optimizers/optimizer.py:49: DeprecationWarning: The package qiskit.aqua.components.optimizers is deprecated. It was moved/refactored to qiskit.algorithms.optimizers (pip install qiskit-terra). For more information see <https://github.com/Qiskit/qiskit-aqua/blob/main/README.md#migration-guide>\n",
      "  warn_package('aqua.components.optimizers',\n",
      "/home/ricky/anaconda3/envs/seminar/lib/python3.8/site-packages/qiskit/chemistry/components/initial_states/hartree_fock.py:61: DeprecationWarning: The HartreeFock class is deprecated as of Aqua 0.9 and will be removed no earlier than 3 months after the release date. Instead, all algorithms and circuits accept a plain QuantumCircuit. \n",
      "  super().__init__()\n",
      "/home/ricky/anaconda3/envs/seminar/lib/python3.8/site-packages/qiskit/aqua/components/variational_forms/variational_form.py:48: DeprecationWarning: The package qiskit.aqua.components.variational_forms is deprecated. For more information see <https://github.com/Qiskit/qiskit-aqua/blob/main/README.md#migration-guide>\n",
      "  warn_package('aqua.components.variational_forms')\n",
      "/home/ricky/anaconda3/envs/seminar/lib/python3.8/site-packages/qiskit/aqua/algorithms/vq_algorithm.py:70: DeprecationWarning: The class qiskit.aqua.algorithms.VQAlgorithm is deprecated. It was moved/refactored to qiskit.algorithms.VariationalAlgorithm (pip install qiskit-terra). For more information see <https://github.com/Qiskit/qiskit-aqua/blob/main/README.md#migration-guide>\n",
      "  warn_class('aqua.algorithms.VQAlgorithm',\n",
      "/home/ricky/anaconda3/envs/seminar/lib/python3.8/site-packages/qiskit/aqua/quantum_instance.py:135: DeprecationWarning: The class qiskit.aqua.QuantumInstance is deprecated. It was moved/refactored to qiskit.utils.QuantumInstance (pip install qiskit-terra). For more information see <https://github.com/Qiskit/qiskit-aqua/blob/main/README.md#migration-guide>\n",
      "  warn_class('aqua.QuantumInstance',\n",
      "/home/ricky/anaconda3/envs/seminar/lib/python3.8/site-packages/qiskit/chemistry/components/variational_forms/uccsd.py:429: DeprecationWarning: Back-references to from Bit instances to their containing Registers have been deprecated. Instead, inspect Registers to find their contained Bits.\n",
      "  qbits[i] = circuit.qubits[qbits[i].index]\n",
      "/home/ricky/anaconda3/envs/seminar/lib/python3.8/site-packages/qiskit/chemistry/components/variational_forms/uccsd.py:429: DeprecationWarning: Back-references to from Bit instances to their containing Registers have been deprecated. Instead, inspect Registers to find their contained Bits.\n",
      "  qbits[i] = circuit.qubits[qbits[i].index]\n",
      "/home/ricky/anaconda3/envs/seminar/lib/python3.8/site-packages/qiskit/chemistry/core/chemistry_operator.py:170: DeprecationWarning: The qiskit.chemistry.chemistry_operator.MolecularChemistryResult object is deprecated as of 0.8.0 and will be removed no sooner than 3 months after the release. You should use qiskit.chemistry.algorithms.ground_state_solvers.FermionicGroundStateResult instead.\n",
      "  super().__init__(a_dict)\n",
      "/home/ricky/anaconda3/envs/seminar/lib/python3.8/site-packages/qiskit/chemistry/core/hamiltonian.py:380: DeprecationWarning: The qiskit.chemistry.chemistry_operator.MolecularGroundStateResult object is deprecated as of 0.8.0 and will be removed no sooner than 3 months after the release. You should use qiskit.chemistry.algorithms.ground_state_solvers.FermionicGroundStateResult instead.\n",
      "  mgsr = MolecularGroundStateResult()\n",
      "/tmp/ipykernel_5368/446905631.py:6: DeprecationWarning: The Hamiltonian class is deprecated as of Qiskit Aqua 0.8.0 and will be removed no earlier than 3 months after the release date. Instead, the FermionicTransformation can be used.\n",
      "  operator = Hamiltonian(qubit_mapping=QubitMappingType.PARITY,\n",
      "/home/ricky/anaconda3/envs/seminar/lib/python3.8/site-packages/qiskit/chemistry/core/hamiltonian.py:88: DeprecationWarning: The ChemistryOperator is deprecated as of Qiskit Aqua 0.8.0 and will be removed no earlier than 3 months after the release date. Instead, the FermionicTransformation can be used to transform QMolecules and construct ground state result objects.\n",
      "  super().__init__()\n"
     ]
    },
    {
     "name": "stdout",
     "output_type": "stream",
     "text": [
      "step 1\n"
     ]
    },
    {
     "name": "stderr",
     "output_type": "stream",
     "text": [
      "/home/ricky/anaconda3/envs/seminar/lib/python3.8/site-packages/qiskit/chemistry/components/initial_states/hartree_fock.py:61: DeprecationWarning: The HartreeFock class is deprecated as of Aqua 0.9 and will be removed no earlier than 3 months after the release date. Instead, all algorithms and circuits accept a plain QuantumCircuit. \n",
      "  super().__init__()\n"
     ]
    },
    {
     "name": "stdout",
     "output_type": "stream",
     "text": [
      "step 2\n",
      "step 3\n",
      "step 4\n",
      "step 5\n",
      "step 6\n",
      "step 7\n",
      "step 8\n",
      "step 9\n",
      "step 10\n",
      "step 11\n",
      "step 12\n",
      "step 13\n",
      "step 14\n"
     ]
    }
   ],
   "source": [
    "for i, d in enumerate (distances):\n",
    "    print('step',i)\n",
    "    #set up experiment\n",
    "    driver = PySCFDriver(molecule.format(d/2), basis='sto3g')\n",
    "    qmolecule = driver.run ()\n",
    "    operator = Hamiltonian(qubit_mapping=QubitMappingType.PARITY,\n",
    "                        two_qubit_reduction=True, freeze_core=True,\n",
    "                          orbital_reduction=[-3,-2])\n",
    "    qubit_op, aux_ops = operator.run (qmolecule)\n",
    "    #exact classical result\n",
    "    exact_result = NumPyMinimumEigensolver (qubit_op,aux_operators=aux_ops).compute_minimum_eigenvalue() \n",
    "    exact_result = operator.process_algorithm_result(exact_result)\n",
    "    #VQE\n",
    "    optimizer = SLSQP (maxiter=1000)\n",
    "    initial_state = HartreeFock(operator.molecule_info['num_orbitals'],\n",
    "                                operator.molecule_info['num_particles'],\n",
    "                                qubit_mapping=operator._qubit_mapping,\n",
    "                                two_qubit_reduction=operator._two_qubit_reduction)\n",
    "    #VQE\n",
    "    optimizer = SLSQP (maxiter=1000)\n",
    "    initial_state = HartreeFock (operator.molecule_info['num_orbitals'],\n",
    "                                operator.molecule_info['num_particles'],\n",
    "                                qubit_mapping=operator._qubit_mapping,\n",
    "                                two_qubit_reduction=operator._two_qubit_reduction)\n",
    "    var_form = UCCSD(num_orbitals=operator.molecule_info['num_orbitals'],\n",
    "                    num_particles=operator.molecule_info['num_particles'],\n",
    "                    initial_state=initial_state,\n",
    "                    qubit_mapping=operator._qubit_mapping,\n",
    "                    two_qubit_reduction=operator._two_qubit_reduction)\n",
    "    algo = VQE(qubit_op, var_form, optimizer, aux_operators=aux_ops)\n",
    "    vqe_result=algo.run(QuantumInstance(BasicAer.get_backend('statevector_simulator')))\n",
    "    vqe_result = operator.process_algorithm_result(vqe_result)\n",
    "    exact_energies.append(exact_result.energy)\n",
    "    vqe_energies.append (vqe_result.energy)\n",
    "    hf_energies.append(vqe_result.hartree_fock_energy)"
   ]
  },
  {
   "cell_type": "code",
   "execution_count": 3,
   "id": "9f4b011e",
   "metadata": {},
   "outputs": [
    {
     "data": {
      "text/plain": [
       "<matplotlib.legend.Legend at 0x7fdd5ce116d0>"
      ]
     },
     "execution_count": 3,
     "metadata": {},
     "output_type": "execute_result"
    },
    {
     "data": {
      "image/png": "[encoded data removed]",
      "text/plain": [
       "<Figure size 640x480 with 1 Axes>"
      ]
     },
     "metadata": {},
     "output_type": "display_data"
    }
   ],
   "source": [
    "pylab.plot(distances, hf_energies, label='Hatree-Fock')\n",
    "pylab.plot(distances, vqe_energies, 'o',label='VQE')\n",
    "pylab.plot(distances, exact_energies, 'x',label='Exact')\n",
    "pylab.xlabel('Interatomic distance')\n",
    "pylab.ylabel('Energy')\n",
    "pylab.title('LiH Ground State Engergy')\n",
    "pylab.legend(loc='upper right')"
   ]
  },
  {
   "attachments": {},
   "cell_type": "markdown",
   "id": "90a4ff87",
   "metadata": {},
   "source": [
    "## Future Improvements\n",
    "- Try VQEs with real quantum devices with IBM backend.\n",
    "- qubit-ADAPT-VQE uses complete minimal pool, but in the first iteration even if we start from Hartree Fock state there is a chance of gradient $\\langle \\psi | [H, \\hat{A}] | \\psi \\rangle $ gives 0(practically is not zero but smaller than threshold) for all pool operators depending on hamiltonian. We can try to start from different initial states $ | \\psi \\rangle$ to overcome this, I used a simple workaround such as even if the gradients are below threshold in the first iteration, I added the operator with maximum gradient norm to ansatz to make it possible to grow more.\n",
    "\n",
    "- As you can see in the iteration results, even if the norm of the gradient is bigger than threshold, it doesn't necessarily improve the eigenvalue estimation. As an improvement, we can hold the eigenvalue estimations and circuits until final iteration and if it doesn't converge until maximum iteration count(circuit depth) we can return the minimum estimation eigenvalue with its ansatz."
   ]
  }
 ],
 "metadata": {
  "kernelspec": {
   "display_name": "Python 3 (ipykernel)",
   "language": "python",
   "name": "python3"
  },
  "language_info": {
   "codemirror_mode": {
    "name": "ipython",
    "version": 3
   },
   "file_extension": ".py",
   "mimetype": "text/x-python",
   "name": "python",
   "nbconvert_exporter": "python",
   "pygments_lexer": "ipython3",
   "version": "3.8.16"
  }
 },
 "nbformat": 4,
 "nbformat_minor": 5
}
